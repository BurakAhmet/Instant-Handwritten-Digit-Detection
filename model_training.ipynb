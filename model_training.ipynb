{
  "nbformat": 4,
  "nbformat_minor": 0,
  "metadata": {
    "colab": {
      "provenance": [],
      "gpuType": "T4"
    },
    "kernelspec": {
      "name": "python3",
      "display_name": "Python 3"
    },
    "language_info": {
      "name": "python"
    },
    "accelerator": "GPU"
  },
  "cells": [
    {
      "cell_type": "markdown",
      "source": [
        "#Imports"
      ],
      "metadata": {
        "id": "4gbQATxYioxs"
      }
    },
    {
      "cell_type": "code",
      "source": [
        "import tensorflow as tf\n",
        "import numpy as np\n",
        "import matplotlib.pyplot as plt"
      ],
      "metadata": {
        "id": "2P-vN1aSiudy"
      },
      "execution_count": 1,
      "outputs": []
    },
    {
      "cell_type": "markdown",
      "source": [
        "#Load the Dataset"
      ],
      "metadata": {
        "id": "5TqpaTq4iLpQ"
      }
    },
    {
      "cell_type": "code",
      "source": [
        "# Load the pre prepared data from TensofFlow\n",
        "(x_train, y_train), (x_test, y_test) = tf.keras.datasets.mnist.load_data()"
      ],
      "metadata": {
        "id": "VJMMrRuQiLT5",
        "colab": {
          "base_uri": "https://localhost:8080/"
        },
        "outputId": "94681eff-1979-4223-fe4b-1a7882cf6198"
      },
      "execution_count": 2,
      "outputs": [
        {
          "output_type": "stream",
          "name": "stdout",
          "text": [
            "Downloading data from https://storage.googleapis.com/tensorflow/tf-keras-datasets/mnist.npz\n",
            "11490434/11490434 [==============================] - 0s 0us/step\n"
          ]
        }
      ]
    },
    {
      "cell_type": "markdown",
      "source": [
        "#Preprocessing"
      ],
      "metadata": {
        "id": "JOWssbqYiY76"
      }
    },
    {
      "cell_type": "code",
      "source": [
        "# Preprocess the data\n",
        "x_train = x_train.reshape(x_train.shape[0], 28, 28, 1)\n",
        "x_test = x_test.reshape(x_test.shape[0], 28, 28, 1)\n",
        "x_train = x_train.astype(\"float32\")\n",
        "x_test = x_test.astype(\"float32\")\n",
        "x_train /= 255\n",
        "x_test /= 255"
      ],
      "metadata": {
        "id": "cLIJnuw2ijlL"
      },
      "execution_count": 3,
      "outputs": []
    },
    {
      "cell_type": "markdown",
      "source": [
        "# Define a Callback to Avoid Overfitting"
      ],
      "metadata": {
        "id": "-e9nA7Pji6hf"
      }
    },
    {
      "cell_type": "code",
      "source": [
        "class Callback(tf.keras.callbacks.Callback):\n",
        "  def __init__(self, threshold):\n",
        "        super(Callback, self).__init__()\n",
        "        self.threshold = threshold\n",
        "\n",
        "  def on_epoch_end(self, epoch, logs=None):\n",
        "      if logs is not None and logs.get(\"val_accuracy\") > self.threshold:\n",
        "          print(f\"\\nReached {self.threshold * 100}% validation accuracy so cancelling training!\")\n",
        "          self.model.stop_training = True"
      ],
      "metadata": {
        "id": "PpP2vuM2jBSW"
      },
      "execution_count": 4,
      "outputs": []
    },
    {
      "cell_type": "markdown",
      "source": [
        "# Create a Model"
      ],
      "metadata": {
        "id": "XuXZouKOjFhO"
      }
    },
    {
      "cell_type": "code",
      "source": [
        "# Define a model with functional API\n",
        "def build_model():\n",
        "  input_layer = tf.keras.Input(shape=(28, 28, 1))\n",
        "\n",
        "  x = tf.keras.layers.Conv2D(128, (3, 3), activation=\"relu\", padding=\"same\", input_shape=(28, 28, 1))(input_layer)\n",
        "  x = tf.keras.layers.MaxPooling2D(2, 2)(x)\n",
        "\n",
        "  x = tf.keras.layers.Conv2D(128, (3, 3), activation=\"relu\", padding=\"same\")(x)\n",
        "  x = tf.keras.layers.MaxPooling2D(2, 2)(x)\n",
        "\n",
        "  x = tf.keras.layers.Flatten()(x)\n",
        "  x = tf.keras.layers.Dense(512, activation=\"relu\")(x)\n",
        "  x = tf.keras.layers.Dropout(0.2)(x)\n",
        "  x = tf.keras.layers.Dense(128, activation=\"relu\")(x)\n",
        "  x = tf.keras.layers.Dropout(0.2)(x)\n",
        "\n",
        "  output_layer = tf.keras.layers.Dense(10, activation=\"softmax\")(x)\n",
        "\n",
        "  model = tf.keras.models.Model(inputs=input_layer, outputs=output_layer)\n",
        "  return model\n",
        "\n",
        "model = build_model()"
      ],
      "metadata": {
        "id": "py958Nsfjv4j"
      },
      "execution_count": 28,
      "outputs": []
    },
    {
      "cell_type": "markdown",
      "source": [
        "# Model Summary"
      ],
      "metadata": {
        "id": "hlsx9WnIDG1t"
      }
    },
    {
      "cell_type": "code",
      "source": [
        "model.summary()"
      ],
      "metadata": {
        "colab": {
          "base_uri": "https://localhost:8080/"
        },
        "id": "ZEKy7iLXDOuL",
        "outputId": "0e8cfcef-87b6-4e81-c4f3-73e5c0a4f857"
      },
      "execution_count": 31,
      "outputs": [
        {
          "output_type": "stream",
          "name": "stdout",
          "text": [
            "Model: \"model_8\"\n",
            "_________________________________________________________________\n",
            " Layer (type)                Output Shape              Param #   \n",
            "=================================================================\n",
            " input_11 (InputLayer)       [(None, 28, 28, 1)]       0         \n",
            "                                                                 \n",
            " conv2d_31 (Conv2D)          (None, 28, 28, 128)       1280      \n",
            "                                                                 \n",
            " max_pooling2d_29 (MaxPooli  (None, 14, 14, 128)       0         \n",
            " ng2D)                                                           \n",
            "                                                                 \n",
            " conv2d_32 (Conv2D)          (None, 14, 14, 128)       147584    \n",
            "                                                                 \n",
            " max_pooling2d_30 (MaxPooli  (None, 7, 7, 128)         0         \n",
            " ng2D)                                                           \n",
            "                                                                 \n",
            " flatten_8 (Flatten)         (None, 6272)              0         \n",
            "                                                                 \n",
            " dense_24 (Dense)            (None, 512)               3211776   \n",
            "                                                                 \n",
            " dropout_16 (Dropout)        (None, 512)               0         \n",
            "                                                                 \n",
            " dense_25 (Dense)            (None, 128)               65664     \n",
            "                                                                 \n",
            " dropout_17 (Dropout)        (None, 128)               0         \n",
            "                                                                 \n",
            " dense_26 (Dense)            (None, 10)                1290      \n",
            "                                                                 \n",
            "=================================================================\n",
            "Total params: 3427594 (13.08 MB)\n",
            "Trainable params: 3427594 (13.08 MB)\n",
            "Non-trainable params: 0 (0.00 Byte)\n",
            "_________________________________________________________________\n"
          ]
        }
      ]
    },
    {
      "cell_type": "markdown",
      "source": [
        "# Train the Model"
      ],
      "metadata": {
        "id": "quMqzvO0j6fg"
      }
    },
    {
      "cell_type": "code",
      "execution_count": 30,
      "metadata": {
        "colab": {
          "base_uri": "https://localhost:8080/"
        },
        "id": "1vuQoR42AF_N",
        "outputId": "7360b37b-cf83-4504-c954-3f8d12a7aa32"
      },
      "outputs": [
        {
          "output_type": "stream",
          "name": "stdout",
          "text": [
            "Epoch 1/20\n",
            "468/468 [==============================] - 24s 47ms/step - loss: 0.3678 - accuracy: 0.8798 - val_loss: 0.0503 - val_accuracy: 0.9835\n",
            "Epoch 2/20\n",
            "468/468 [==============================] - 22s 46ms/step - loss: 0.1132 - accuracy: 0.9645 - val_loss: 0.0342 - val_accuracy: 0.9885\n",
            "Epoch 3/20\n",
            "468/468 [==============================] - 21s 45ms/step - loss: 0.0865 - accuracy: 0.9732 - val_loss: 0.0391 - val_accuracy: 0.9862\n",
            "Epoch 4/20\n",
            "468/468 [==============================] - 20s 44ms/step - loss: 0.0698 - accuracy: 0.9785 - val_loss: 0.0298 - val_accuracy: 0.9887\n",
            "Epoch 5/20\n",
            "468/468 [==============================] - 21s 46ms/step - loss: 0.0645 - accuracy: 0.9807 - val_loss: 0.0320 - val_accuracy: 0.9891\n",
            "Epoch 6/20\n",
            "468/468 [==============================] - 21s 44ms/step - loss: 0.0554 - accuracy: 0.9834 - val_loss: 0.0271 - val_accuracy: 0.9906\n",
            "Epoch 7/20\n",
            "468/468 [==============================] - 21s 46ms/step - loss: 0.0514 - accuracy: 0.9845 - val_loss: 0.0191 - val_accuracy: 0.9940\n",
            "Epoch 8/20\n",
            "468/468 [==============================] - 21s 46ms/step - loss: 0.0481 - accuracy: 0.9853 - val_loss: 0.0184 - val_accuracy: 0.9931\n",
            "Epoch 9/20\n",
            "468/468 [==============================] - 21s 44ms/step - loss: 0.0460 - accuracy: 0.9863 - val_loss: 0.0210 - val_accuracy: 0.9930\n",
            "Epoch 10/20\n",
            "468/468 [==============================] - 22s 46ms/step - loss: 0.0467 - accuracy: 0.9857 - val_loss: 0.0235 - val_accuracy: 0.9917\n",
            "Epoch 11/20\n",
            "468/468 [==============================] - 21s 46ms/step - loss: 0.0401 - accuracy: 0.9882 - val_loss: 0.0188 - val_accuracy: 0.9938\n",
            "Epoch 12/20\n",
            "468/468 [==============================] - 21s 45ms/step - loss: 0.0422 - accuracy: 0.9872 - val_loss: 0.0174 - val_accuracy: 0.9941\n",
            "Epoch 13/20\n",
            "468/468 [==============================] - 21s 45ms/step - loss: 0.0394 - accuracy: 0.9882 - val_loss: 0.0277 - val_accuracy: 0.9909\n",
            "Epoch 14/20\n",
            "468/468 [==============================] - 20s 43ms/step - loss: 0.0365 - accuracy: 0.9890 - val_loss: 0.0189 - val_accuracy: 0.9940\n",
            "Epoch 15/20\n",
            "468/468 [==============================] - 20s 43ms/step - loss: 0.0350 - accuracy: 0.9897 - val_loss: 0.0181 - val_accuracy: 0.9937\n",
            "Epoch 16/20\n",
            "468/468 [==============================] - 22s 46ms/step - loss: 0.0370 - accuracy: 0.9888 - val_loss: 0.0189 - val_accuracy: 0.9947\n",
            "Epoch 17/20\n",
            "468/468 [==============================] - 22s 47ms/step - loss: 0.0332 - accuracy: 0.9899 - val_loss: 0.0197 - val_accuracy: 0.9940\n",
            "Epoch 18/20\n",
            "468/468 [==============================] - 21s 45ms/step - loss: 0.0338 - accuracy: 0.9901 - val_loss: 0.0191 - val_accuracy: 0.9936\n",
            "Epoch 19/20\n",
            "468/468 [============================>.] - ETA: 0s - loss: 0.0306 - accuracy: 0.9908\n",
            "Reached 99.5% accuracy so cancelling training!\n",
            "468/468 [==============================] - 22s 46ms/step - loss: 0.0306 - accuracy: 0.9908 - val_loss: 0.0144 - val_accuracy: 0.9960\n"
          ]
        }
      ],
      "source": [
        "# Data Augmentation\n",
        "datagen = tf.keras.preprocessing.image.ImageDataGenerator(\n",
        "    rotation_range=10,\n",
        "    width_shift_range=0.15,\n",
        "    height_shift_range=0.15,\n",
        "    shear_range=0.1,\n",
        "    zoom_range=0.15,\n",
        ")\n",
        "\n",
        "datagen.fit(x_train)\n",
        "\n",
        "# Compile the model\n",
        "model.compile(optimizer=tf.keras.optimizers.Adam(),\n",
        "              loss=\"sparse_categorical_crossentropy\",\n",
        "              metrics=[\"accuracy\"])\n",
        "\n",
        "epochs = 20\n",
        "callbacks = Callback(0.9950)\n",
        "\n",
        "history = model.fit(datagen.flow(x_train, y_train, batch_size=128),\n",
        "          steps_per_epoch=len(x_train) / 128,\n",
        "          epochs=epochs,\n",
        "          verbose=1,\n",
        "          validation_data=(x_test, y_test),\n",
        "          callbacks=[callbacks])"
      ]
    },
    {
      "cell_type": "markdown",
      "source": [
        "# Show Training Chart"
      ],
      "metadata": {
        "id": "N9TZhZF8jhWU"
      }
    },
    {
      "cell_type": "code",
      "source": [
        "acc=history.history[\"accuracy\"]\n",
        "val_acc=history.history[\"val_accuracy\"]\n",
        "loss=history.history[\"loss\"]\n",
        "val_loss=history.history[\"val_loss\"]\n",
        "\n",
        "epochs=range(len(acc)) # Get number of epochs\n",
        "\n",
        "#------------------------------------------------\n",
        "# Plot training and validation accuracy per epoch\n",
        "#------------------------------------------------\n",
        "plt.plot(epochs, acc, \"r\", label=\"Training accuracy\")\n",
        "plt.plot(epochs, val_acc, \"b\", label=\"Validation accuracy\")\n",
        "plt.title(\"Training and validation accuracy\")\n",
        "plt.legend(loc=0)\n",
        "plt.show()\n",
        "print()\n",
        "\n",
        "#------------------------------------------------\n",
        "# Plot training and validation loss per epoch\n",
        "#------------------------------------------------\n",
        "plt.plot(epochs, loss, \"r\", label=\"Training Loss\")\n",
        "plt.plot(epochs, val_loss, \"b\", label=\"Validation Loss\")\n",
        "plt.title(\"Training and Validation Loss\")\n",
        "plt.legend(loc=0)\n",
        "plt.show()"
      ],
      "metadata": {
        "colab": {
          "base_uri": "https://localhost:8080/",
          "height": 905
        },
        "id": "Yb7eUsRiTo6N",
        "outputId": "01db2f85-a908-40ec-ca87-5dde3107b5a4"
      },
      "execution_count": 32,
      "outputs": [
        {
          "output_type": "display_data",
          "data": {
            "text/plain": [
              "<Figure size 640x480 with 1 Axes>"
            ],
            "image/png": "[encoded data removed]"
          },
          "metadata": {}
        },
        {
          "output_type": "stream",
          "name": "stdout",
          "text": [
            "\n"
          ]
        },
        {
          "output_type": "display_data",
          "data": {
            "text/plain": [
              "<Figure size 640x480 with 1 Axes>"
            ],
            "image/png": "[encoded data removed]"
          },
          "metadata": {}
        }
      ]
    },
    {
      "cell_type": "markdown",
      "source": [
        "# Evaluate the Model"
      ],
      "metadata": {
        "id": "W1LAAZHeEeLF"
      }
    },
    {
      "cell_type": "code",
      "source": [
        "loss, acc = model.evaluate(x=x_test, y=y_test)\n",
        "print(\"Loss:\", loss)\n",
        "print(\"Accuracy:\", acc)"
      ],
      "metadata": {
        "colab": {
          "base_uri": "https://localhost:8080/"
        },
        "id": "3O5b1ShcIE7-",
        "outputId": "065af96f-86a4-48bf-f7a1-a09aa2d419bb"
      },
      "execution_count": 33,
      "outputs": [
        {
          "output_type": "stream",
          "name": "stdout",
          "text": [
            "313/313 [==============================] - 1s 3ms/step - loss: 0.0144 - accuracy: 0.9960\n",
            "Loss: 0.014352827332913876\n",
            "Accuracy: 0.9959999918937683\n"
          ]
        }
      ]
    },
    {
      "cell_type": "markdown",
      "source": [
        "# Save the Model and Model Weights\n"
      ],
      "metadata": {
        "id": "2pNqtozRN5wj"
      }
    },
    {
      "cell_type": "code",
      "source": [
        "model.save(\"/content/model/model2.h5\")\n",
        "model.save_weights(\"/content/model/model2_weights.h5\")"
      ],
      "metadata": {
        "id": "7Fp3_wYEKMF-"
      },
      "execution_count": 34,
      "outputs": []
    }
  ]
}